{
 "cells": [
  {
   "cell_type": "code",
   "execution_count": 12,
   "metadata": {
    "execution": {
     "iopub.execute_input": "2024-06-05T17:14:11.172906Z",
     "iopub.status.busy": "2024-06-05T17:14:11.172608Z",
     "iopub.status.idle": "2024-06-05T17:14:11.177488Z",
     "shell.execute_reply": "2024-06-05T17:14:11.176645Z",
     "shell.execute_reply.started": "2024-06-05T17:14:11.172886Z"
    },
    "tags": []
   },
   "outputs": [
    {
     "name": "stderr",
     "output_type": "stream",
     "text": [
      "UsageError: Cell magic `%%hide_code` not found.\n"
     ]
    }
   ],
   "source": [
    "%%hide_code\n",
    "# Initialization - installs & imports \n",
    "import os\n",
    "import xml.etree.ElementTree as ET\n",
    "import pandas as pd\n",
    "import ipywidgets as widgets\n",
    "from IPython.display import display, HTML\n",
    "\n",
    "!pip install voila\n",
    "!pip install openpyxl\n",
    "\n",
    "!jupyter labextension update --all\n",
    "!jupyter nbextension update --all\n",
    "!pip install --upgrade ipywidgets\n"
   ]
  },
  {
   "cell_type": "code",
   "execution_count": 2,
   "metadata": {
    "execution": {
     "iopub.execute_input": "2024-06-05T17:08:43.053736Z",
     "iopub.status.busy": "2024-06-05T17:08:43.053009Z",
     "iopub.status.idle": "2024-06-05T17:08:43.061921Z",
     "shell.execute_reply": "2024-06-05T17:08:43.061254Z",
     "shell.execute_reply.started": "2024-06-05T17:08:43.053709Z"
    },
    "tags": []
   },
   "outputs": [
    {
     "data": {
      "text/html": [
       "\n",
       "        <div style=\"text-align: center;\">\n",
       "            <h1 style=\"font-size: 36px;\">PC's XML Data Processing App</h1>\n",
       "            <h2 style=\"font-size: 24px;\">Welcome to the XML Processing App!</h2>\n",
       "        </div>\n",
       "    "
      ],
      "text/plain": [
       "<IPython.core.display.HTML object>"
      ]
     },
     "metadata": {},
     "output_type": "display_data"
    }
   ],
   "source": [
    "# Display the intro screen with Voila components\n",
    "from IPython.display import display, HTML\n",
    "\n",
    "def display_intro_screen(app_name):\n",
    "    intro_screen = HTML(f'''\n",
    "        <div style=\"text-align: center;\">\n",
    "            <h1 style=\"font-size: 36px;\">{app_name}</h1>\n",
    "            <h2 style=\"font-size: 24px;\">Welcome to the XML Processing App!</h2>\n",
    "        </div>\n",
    "    ''')\n",
    "    display(intro_screen)\n",
    "\n",
    "app_name = \"PC's XML Data Processing App\"\n",
    "display_intro_screen(app_name)\n",
    "\n"
   ]
  },
  {
   "cell_type": "code",
   "execution_count": null,
   "metadata": {},
   "outputs": [],
   "source": [
    "# Directory containing XML files\n",
    "xml_directory = '/home/jovyan/workspace/XML_files'\n",
    "\n",
    "# Load the Excel file\n",
    "xls_file = '/home/jovyan/workspace/PC INVENTORY 2024.xlsx'\n",
    "xls_data = pd.read_excel(xls_file)"
   ]
  },
  {
   "cell_type": "code",
   "execution_count": 9,
   "metadata": {
    "execution": {
     "iopub.execute_input": "2024-06-05T17:12:15.462674Z",
     "iopub.status.busy": "2024-06-05T17:12:15.462290Z",
     "iopub.status.idle": "2024-06-05T17:12:15.476927Z",
     "shell.execute_reply": "2024-06-05T17:12:15.476200Z",
     "shell.execute_reply.started": "2024-06-05T17:12:15.462653Z"
    },
    "tags": []
   },
   "outputs": [
    {
     "data": {
      "text/html": [
       "\n",
       "<style>\n",
       ".widget-button {\n",
       "    animation: blink 1s linear infinite;\n",
       "}\n",
       "@keyframes blink {\n",
       "    50% {\n",
       "        background-color: #2196F3;\n",
       "    }\n",
       "}\n",
       "</style>\n"
      ],
      "text/plain": [
       "<IPython.core.display.HTML object>"
      ]
     },
     "metadata": {},
     "output_type": "display_data"
    },
    {
     "data": {
      "application/vnd.jupyter.widget-view+json": {
       "model_id": "1d7704cc5f53414bac55dee92af68329",
       "version_major": 2,
       "version_minor": 0
      },
      "text/plain": [
       "VBox(children=(Button(button_style='info', description='Process XML Files', layout=Layout(margin='auto', width…"
      ]
     },
     "metadata": {},
     "output_type": "display_data"
    }
   ],
   "source": [
    "from IPython.display import display\n",
    "import ipywidgets as widgets\n",
    "\n",
    "# Button to launch XML files processing\n",
    "process_button = widgets.Button(description='Process XML Files', \n",
    "                                layout=widgets.Layout(margin='auto', width='200px'),\n",
    "                                button_style='info')\n",
    "output = widgets.Output(layout=widgets.Layout(display='flex', justify_content='center'))\n",
    "\n",
    "def on_button_clicked(b):\n",
    "    with output:\n",
    "        # Codice per elaborare i file XML e generare il risultato\n",
    "        # ...\n",
    "        print(\"Processing completed.\")\n",
    "\n",
    "process_button.on_click(on_button_clicked)\n",
    "\n",
    "# CSS styling\n",
    "style = \"\"\"\n",
    "<style>\n",
    ".widget-button {\n",
    "    animation: blink 1s linear infinite;\n",
    "}\n",
    "@keyframes blink {\n",
    "    50% {\n",
    "        background-color: #2196F3;\n",
    "    }\n",
    "}\n",
    "</style>\n",
    "\"\"\"\n",
    "\n",
    "# Display the button and output\n",
    "display(HTML(style))\n",
    "display(widgets.VBox([process_button, output]))\n",
    "\n"
   ]
  },
  {
   "cell_type": "code",
   "execution_count": 7,
   "metadata": {
    "execution": {
     "iopub.execute_input": "2024-06-05T17:09:29.071232Z",
     "iopub.status.busy": "2024-06-05T17:09:29.070872Z",
     "iopub.status.idle": "2024-06-05T17:09:29.086215Z",
     "shell.execute_reply": "2024-06-05T17:09:29.085296Z",
     "shell.execute_reply.started": "2024-06-05T17:09:29.071210Z"
    },
    "tags": []
   },
   "outputs": [],
   "source": [
    "# Initialize an empty DataFrame for the results\n",
    "result_df = pd.DataFrame(columns=['HOSTNAME', 'MAC Address', 'IP', 'OS', 'Antivirus', 'SERIALE CESPITI', 'Reparto', 'MODELLO PC', 'S/N PC', 'Note'])\n",
    "\n",
    "# Function to extract OS information\n",
    "def extract_os_info(element):\n",
    "    os_info = {}\n",
    "    for entry in element.findall('./entry'):\n",
    "        title = entry.find('entry[@title=\"Model\"]')\n",
    "        if title is not None:\n",
    "            os_info['Model'] = title.get('value')\n",
    "        title = entry.find('entry[@title=\"Edition\"]')\n",
    "        if title is not None:\n",
    "            os_info['Edition'] = title.get('value')\n",
    "        title = entry.find('entry[@title=\"Architecture\"]')\n",
    "        if title is not None:\n",
    "            os_info['Architecture'] = title.get('value')\n",
    "    return os_info\n",
    "\n",
    "# Function to extract Antivirus information\n",
    "def extract_antivirus_info(element):\n",
    "    antivirus_info = {}\n",
    "    for entry in element.findall('./entry'):\n",
    "        if entry.get('title') == 'Company Name':\n",
    "            antivirus_info['Company Name'] = entry.get('value')\n",
    "        elif entry.get('title') == 'Product Version':\n",
    "            antivirus_info['Product Version'] = entry.get('value')\n",
    "        elif entry.get('title') == 'Display Name':\n",
    "            antivirus_info['Display Name'] = entry.get('value')\n",
    "    return antivirus_info\n",
    "\n",
    "# Function to extract MAC Address\n",
    "def extract_mac_address(element):\n",
    "    for section in element.findall('.//section'):\n",
    "        if section.get('title') == 'Adapters List':\n",
    "            for adapter_section in section.findall('.//section'):\n",
    "                if adapter_section.get('title') == 'Enabled':\n",
    "                    for entry in adapter_section.findall('.//entry'):\n",
    "                        if entry.get('title') == 'MAC Address':\n",
    "                            return entry.get('value')\n",
    "    return None\n",
    "\n",
    "# Recursive function to extract data\n",
    "def extract_entries(element, main_section=None, section_id=None, parent_section=None):\n",
    "    data = []\n",
    "    if element.tag == 'entry' and element.get('title') == 'IP Address':\n",
    "        data.append({\n",
    "            'main_section': main_section,\n",
    "            'section_id': section_id,\n",
    "            'parent_section': parent_section,\n",
    "            'entry_title': element.get('title'),\n",
    "            'entry_value': element.get('value')\n",
    "        })\n",
    "    for child in element:\n",
    "        if child.tag == 'mainsection':\n",
    "            main_section = child.get('title')\n",
    "            if main_section == 'Operating System':\n",
    "                os_info = extract_os_info(child)\n",
    "                data.append({\n",
    "                    'main_section': main_section,\n",
    "                    'section_id': section_id,\n",
    "                    'parent_section': parent_section,\n",
    "                    'entry_title': 'Operating System',\n",
    "                    'entry_value': f\"{os_info.get('Model', '')} {os_info.get('Edition', '')} {os_info.get('Architecture', '')}\".strip()\n",
    "                })\n",
    "            data.extend(extract_entries(child, main_section, section_id))\n",
    "        elif child.tag == 'section':\n",
    "            section_id = child.get('id')\n",
    "            if child.get('title') == 'Antivirus':\n",
    "                antivirus_info = extract_antivirus_info(child)\n",
    "                if not antivirus_info:\n",
    "                    for antivirus_section in child.findall('./section'):\n",
    "                        antivirus_info = extract_antivirus_info(antivirus_section)\n",
    "                        if antivirus_info:\n",
    "                            break\n",
    "                if antivirus_info:\n",
    "                    data.append({\n",
    "                        'main_section': main_section,\n",
    "                        'section_id': section_id,\n",
    "                        'parent_section': parent_section,\n",
    "                        'entry_title': 'Antivirus',\n",
    "                        'entry_value': f\"{antivirus_info.get('Company Name', '')} {antivirus_info.get('Product Version', '')} {antivirus_info.get('Display Name', '')}\".strip()\n",
    "                    })\n",
    "            data.extend(extract_entries(child, main_section, section_id, child.get('title')))\n",
    "        else:\n",
    "            data.extend(extract_entries(child, main_section, section_id, parent_section))\n",
    "    return data"
   ]
  },
  {
   "cell_type": "code",
   "execution_count": 5,
   "metadata": {
    "execution": {
     "iopub.execute_input": "2024-06-05T17:08:43.221795Z",
     "iopub.status.busy": "2024-06-05T17:08:43.221495Z",
     "iopub.status.idle": "2024-06-05T17:08:43.380743Z",
     "shell.execute_reply": "2024-06-05T17:08:43.380087Z",
     "shell.execute_reply.started": "2024-06-05T17:08:43.221776Z"
    }
   },
   "outputs": [],
   "source": [
    "# Iterate over the rows in the Excel file\n",
    "for index, row in xls_data.iterrows():\n",
    "    hostname = row['HOSTNAME']\n",
    "    xml_file = os.path.join(xml_directory, f\"{hostname}.xml\")\n",
    "    \n",
    "    if os.path.exists(xml_file):\n",
    "        tree = ET.parse(xml_file)\n",
    "        root = tree.getroot()\n",
    "\n",
    "        # Start extraction from the root element\n",
    "        data = extract_entries(root)\n",
    "\n",
    "        # Extract MAC Address\n",
    "        mac_address = extract_mac_address(root)\n",
    "\n",
    "        # Convert the data into a pandas DataFrame\n",
    "        df = pd.DataFrame(data)\n",
    "\n",
    "        # Extract IP Address, Operating System, and Antivirus information\n",
    "        ip_address = df.loc[df['entry_title'] == 'IP Address', 'entry_value'].values[0] if 'IP Address' in df['entry_title'].values else None\n",
    "        os_value = df.loc[df['entry_title'] == 'Operating System', 'entry_value'].values[0] if 'Operating System' in df['entry_title'].values else 'NaN'\n",
    "        antivirus_value = df.loc[df['entry_title'] == 'Antivirus', 'entry_value'].values[0] if 'Antivirus' in df['entry_title'].values else 'NaN'\n",
    "\n",
    "        result_row = {\n",
    "            'HOSTNAME': hostname,\n",
    "            'MAC Address': mac_address,\n",
    "            'IP': ip_address,\n",
    "            'OS': os_value,\n",
    "            'Antivirus': antivirus_value,\n",
    "            'SERIALE CESPITI': row['SERIALE CESPITI'],\n",
    "            'Reparto': row['Reparto'],\n",
    "            'MODELLO PC': row['MODELLO PC'],\n",
    "            'S/N PC': row['S/N PC'],\n",
    "            'Note': row['Note']\n",
    "        }\n",
    "\n",
    "        # Create a DataFrame with a single row of data\n",
    "        result_row_df = pd.DataFrame([result_row])\n",
    "\n",
    "        # Append the row to the result DataFrame\n",
    "        result_df = pd.concat([result_df, result_row_df], ignore_index=True)"
   ]
  },
  {
   "cell_type": "code",
   "execution_count": 6,
   "metadata": {
    "execution": {
     "iopub.execute_input": "2024-06-05T17:08:43.381999Z",
     "iopub.status.busy": "2024-06-05T17:08:43.381679Z",
     "iopub.status.idle": "2024-06-05T17:08:43.405073Z",
     "shell.execute_reply": "2024-06-05T17:08:43.404214Z",
     "shell.execute_reply.started": "2024-06-05T17:08:43.381967Z"
    },
    "tags": []
   },
   "outputs": [
    {
     "name": "stdout",
     "output_type": "stream",
     "text": [
      "        HOSTNAME        MAC Address            IP                     OS  \\\n",
      "count         10                 10            10                     10   \n",
      "unique        10                 10            10                      4   \n",
      "top     TCEWORK2  6C-02-E0-6D-7D-CD  10.100.8.193  Windows 10 Pro 64-bit   \n",
      "freq           1                  1             1                      4   \n",
      "\n",
      "                      Antivirus           SERIALE CESPITI Reparto MODELLO PC  \\\n",
      "count                        10                        10       0          0   \n",
      "unique                        3                        10       0          0   \n",
      "top     Symantec 14.3.1148.0100  e280699500007003a338a5ff     NaN        NaN   \n",
      "freq                          5                         1     NaN        NaN   \n",
      "\n",
      "            S/N PC Note  \n",
      "count           10    0  \n",
      "unique          10    0  \n",
      "top     czc1418bxj  NaN  \n",
      "freq             1  NaN  \n"
     ]
    }
   ],
   "source": [
    "# Display the summary of the result DataFrame\n",
    "summary = result_df.describe()\n",
    "print(summary)\n",
    "\n",
    "# Save the result DataFrame to a CSV file with semicolon delimiter\n",
    "result_df.to_csv('output.csv', sep=';', index=False)"
   ]
  }
 ],
 "metadata": {
  "kernelspec": {
   "display_name": "saturn (Python 3)",
   "language": "python",
   "name": "python3"
  },
  "language_info": {
   "codemirror_mode": {
    "name": "ipython",
    "version": 3
   },
   "file_extension": ".py",
   "mimetype": "text/x-python",
   "name": "python",
   "nbconvert_exporter": "python",
   "pygments_lexer": "ipython3",
   "version": "3.9.15"
  }
 },
 "nbformat": 4,
 "nbformat_minor": 4
}
